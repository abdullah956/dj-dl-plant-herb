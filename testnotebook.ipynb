{
 "cells": [
  {
   "cell_type": "code",
   "execution_count": 63,
   "metadata": {},
   "outputs": [],
   "source": [
    "import os\n",
    "import numpy as np\n",
    "import cv2\n",
    "import json\n",
    "import tensorflow as tf\n"
   ]
  },
  {
   "cell_type": "code",
   "execution_count": 64,
   "metadata": {},
   "outputs": [
    {
     "name": "stderr",
     "output_type": "stream",
     "text": [
      "WARNING:absl:Compiled the loaded model, but the compiled metrics have yet to be built. `model.compile_metrics` will be empty until you train or evaluate the model.\n"
     ]
    }
   ],
   "source": [
    "# Load the trained model\n",
    "model = tf.keras.models.load_model(\"plant_disease_model.h5\")"
   ]
  },
  {
   "cell_type": "code",
   "execution_count": 65,
   "metadata": {},
   "outputs": [],
   "source": [
    "# Load class names from a JSON file\n",
    "with open(\"class_names.json\", \"r\") as f:\n",
    "    CLASS_NAMES = json.load(f)"
   ]
  },
  {
   "cell_type": "code",
   "execution_count": 66,
   "metadata": {},
   "outputs": [
    {
     "name": "stdout",
     "output_type": "stream",
     "text": [
      "\u001b[1m1/1\u001b[0m \u001b[32m━━━━━━━━━━━━━━━━━━━━\u001b[0m\u001b[37m\u001b[0m \u001b[1m2s\u001b[0m 2s/step\n",
      "Image: PlantDoc-Dataset\\train\\Soyabean leaf\\0T2vvUm8.jpg\n",
      "  Top 1: Peach leaf (0.35)\n",
      "  Top 2: Blueberry leaf (0.18)\n",
      "  Top 3: Tomato leaf (0.05)\n",
      "\u001b[1m1/1\u001b[0m \u001b[32m━━━━━━━━━━━━━━━━━━━━\u001b[0m\u001b[37m\u001b[0m \u001b[1m0s\u001b[0m 72ms/step\n",
      "Image: PlantDoc-Dataset\\train\\Peach leaf\\1U1Zf1Wk.jpg\n",
      "  Top 1: Peach leaf (0.35)\n",
      "  Top 2: Blueberry leaf (0.18)\n",
      "  Top 3: Tomato leaf (0.05)\n",
      "\u001b[1m1/1\u001b[0m \u001b[32m━━━━━━━━━━━━━━━━━━━━\u001b[0m\u001b[37m\u001b[0m \u001b[1m0s\u001b[0m 85ms/step\n",
      "Image: C:/Users/PMLS/Desktop/Projects/data science/dj-dl-plant/PlantDoc-Dataset/train/Peach leaf/1U1Zf1Wk.jpg\n",
      "  Top 1: Peach leaf (0.35)\n",
      "  Top 2: Blueberry leaf (0.18)\n",
      "  Top 3: Tomato leaf (0.05)\n",
      "\u001b[1m1/1\u001b[0m \u001b[32m━━━━━━━━━━━━━━━━━━━━\u001b[0m\u001b[37m\u001b[0m \u001b[1m0s\u001b[0m 79ms/step\n",
      "Image: PlantDoc-Dataset\\test\\Bell_pepper leaf\\5AWtzJSm.jpg\n",
      "  Top 1: Peach leaf (0.35)\n",
      "  Top 2: Blueberry leaf (0.18)\n",
      "  Top 3: Tomato leaf (0.05)\n",
      "\u001b[1m1/1\u001b[0m \u001b[32m━━━━━━━━━━━━━━━━━━━━\u001b[0m\u001b[37m\u001b[0m \u001b[1m0s\u001b[0m 77ms/step\n",
      "Image: C:\\Users\\PMLS\\Desktop\\Projects\\data science\\dj-dl-plant\\PlantDoc-Dataset\\test\\Apple leaf\\ZjdwrFR9.jpg\n",
      "  Top 1: Peach leaf (0.35)\n",
      "  Top 2: Blueberry leaf (0.18)\n",
      "  Top 3: Tomato leaf (0.05)\n",
      "\u001b[1m1/1\u001b[0m \u001b[32m━━━━━━━━━━━━━━━━━━━━\u001b[0m\u001b[37m\u001b[0m \u001b[1m0s\u001b[0m 79ms/step\n",
      "Image: PlantDoc-Dataset\\test\\grape leaf\\7A32wf60.jpg\n",
      "  Top 1: Peach leaf (0.35)\n",
      "  Top 2: Blueberry leaf (0.18)\n",
      "  Top 3: Tomato leaf (0.05)\n"
     ]
    }
   ],
   "source": [
    "def predict_top_n(img_path, model, class_names, top_n=3):\n",
    "    img = cv2.imread(img_path)\n",
    "    img = cv2.cvtColor(img, cv2.COLOR_BGR2RGB)\n",
    "    img = cv2.resize(img, (224, 224))\n",
    "    img = img / 255.0\n",
    "    img = np.expand_dims(img, axis=0)\n",
    "\n",
    "    prediction = model.predict(img)[0]\n",
    "    top_indices = np.argsort(prediction)[-top_n:][::-1]  # Get top N predictions\n",
    "\n",
    "    return [(class_names[i], prediction[i]) for i in top_indices]\n",
    "\n",
    "image_paths = [\n",
    "    r\"PlantDoc-Dataset\\train\\Soyabean leaf\\0T2vvUm8.jpg\",\n",
    "    r\"PlantDoc-Dataset\\train\\Peach leaf\\1U1Zf1Wk.jpg\",\n",
    "    r\"C:/Users/PMLS/Desktop/Projects/data science/dj-dl-plant/PlantDoc-Dataset/train/Peach leaf/1U1Zf1Wk.jpg\",\n",
    "    r\"PlantDoc-Dataset\\test\\Bell_pepper leaf\\5AWtzJSm.jpg\",\n",
    "    r\"C:\\Users\\PMLS\\Desktop\\Projects\\data science\\dj-dl-plant\\PlantDoc-Dataset\\test\\Apple leaf\\ZjdwrFR9.jpg\",\n",
    "    r\"PlantDoc-Dataset\\test\\grape leaf\\7A32wf60.jpg\"\n",
    "]\n",
    "\n",
    "for path in image_paths:\n",
    "    top_predictions = predict_top_n(path, model, CLASS_NAMES , top_n=3)\n",
    "    print(f\"Image: {path}\")\n",
    "    for rank, (class_name, confidence) in enumerate(top_predictions, start=1):\n",
    "        print(f\"  Top {rank}: {class_name} ({confidence:.2f})\")\n"
   ]
  }
 ],
 "metadata": {
  "kernelspec": {
   "display_name": "env",
   "language": "python",
   "name": "python3"
  },
  "language_info": {
   "codemirror_mode": {
    "name": "ipython",
    "version": 3
   },
   "file_extension": ".py",
   "mimetype": "text/x-python",
   "name": "python",
   "nbconvert_exporter": "python",
   "pygments_lexer": "ipython3",
   "version": "3.12.3"
  }
 },
 "nbformat": 4,
 "nbformat_minor": 2
}
