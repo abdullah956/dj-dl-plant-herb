{
 "cells": [
  {
   "cell_type": "code",
   "execution_count": 3,
   "metadata": {},
   "outputs": [
    {
     "name": "stderr",
     "output_type": "stream",
     "text": [
      "WARNING:absl:Compiled the loaded model, but the compiled metrics have yet to be built. `model.compile_metrics` will be empty until you train or evaluate the model.\n"
     ]
    },
    {
     "name": "stdout",
     "output_type": "stream",
     "text": [
      "Error: File not found - Chinese-Herbs-Dataset\\Amomum Tsaoko\\Amomum Tsaoko_0.jpg\n",
      "Image: Chinese-Herbs-Dataset\\Amomum Tsaoko\\Amomum Tsaoko_0.jpg\n",
      "\u001b[1m1/1\u001b[0m \u001b[32m━━━━━━━━━━━━━━━━━━━━\u001b[0m\u001b[37m\u001b[0m \u001b[1m1s\u001b[0m 1s/step\n",
      "Image: Chinese-Herbs-Dataset\\Cordyceps Sinensis\\Cordyceps Sinensis_5.jpg\n",
      "  Top 1: Glossy Ganoderma (0.08)\n",
      "  Top 2: Coix Seed (0.08)\n",
      "  Top 3: Liquorice (0.07)\n",
      "\u001b[1m1/1\u001b[0m \u001b[32m━━━━━━━━━━━━━━━━━━━━\u001b[0m\u001b[37m\u001b[0m \u001b[1m0s\u001b[0m 116ms/step\n",
      "Image: Chinese-Herbs-Dataset\\Liquorice\\Liquorice_2.jpg\n",
      "  Top 1: Fructus Amomi (0.09)\n",
      "  Top 2: Star Anise (0.07)\n",
      "  Top 3: Liquorice (0.07)\n",
      "\u001b[1m1/1\u001b[0m \u001b[32m━━━━━━━━━━━━━━━━━━━━\u001b[0m\u001b[37m\u001b[0m \u001b[1m0s\u001b[0m 129ms/step\n",
      "Image: Chinese-Herbs-Dataset\\Scaphium Scaphigerum\\Scaphium Scaphigerum_1.jpg\n",
      "  Top 1: Fructus Amomi (0.10)\n",
      "  Top 2: Liquorice (0.07)\n",
      "  Top 3: Glossy Ganoderma (0.07)\n",
      "\u001b[1m1/1\u001b[0m \u001b[32m━━━━━━━━━━━━━━━━━━━━\u001b[0m\u001b[37m\u001b[0m \u001b[1m0s\u001b[0m 117ms/step\n",
      "Image: Chinese-Herbs-Dataset\\Star Anise\\Star Anise_2.jpg\n",
      "  Top 1: Coix Seed (0.07)\n",
      "  Top 2: Glossy Ganoderma (0.07)\n",
      "  Top 3: Liquorice (0.07)\n"
     ]
    }
   ],
   "source": [
    "import cv2\n",
    "import numpy as np\n",
    "import os\n",
    "import tensorflow as tf\n",
    "import json\n",
    "\n",
    "def predict_top_n(img_path, model, class_names, top_n=3):\n",
    "    if not os.path.exists(img_path):\n",
    "        print(f\"Error: File not found - {img_path}\")\n",
    "        return []\n",
    "\n",
    "    img = cv2.imread(img_path)\n",
    "    if img is None:\n",
    "        print(f\"Error: Could not read image - {img_path}\")\n",
    "        return []\n",
    "\n",
    "    img = cv2.cvtColor(img, cv2.COLOR_BGR2RGB)\n",
    "    img = cv2.resize(img, (224, 224))\n",
    "    img = img / 255.0\n",
    "    img = np.expand_dims(img, axis=0)\n",
    "\n",
    "    prediction = model.predict(img)[0]\n",
    "    top_indices = np.argsort(prediction)[-top_n:][::-1]\n",
    "\n",
    "    return [(class_names[i], prediction[i]) for i in top_indices]\n",
    "\n",
    "# Load model and class names\n",
    "model = tf.keras.models.load_model(\"herb.h5\")\n",
    "# Load class names from a JSON file\n",
    "with open(\"herb_classes.json\", \"r\") as f:\n",
    "    CLASS_NAMES = json.load(f)\n",
    "\n",
    "image_paths = [\n",
    "    r\"Chinese-Herbs-Dataset\\Amomum Tsaoko\\Amomum Tsaoko_0.jpg\",\n",
    "    r\"Chinese-Herbs-Dataset\\Cordyceps Sinensis\\Cordyceps Sinensis_5.jpg\",\n",
    "    r\"Chinese-Herbs-Dataset\\Liquorice\\Liquorice_2.jpg\",\n",
    "    r\"Chinese-Herbs-Dataset\\Scaphium Scaphigerum\\Scaphium Scaphigerum_1.jpg\",\n",
    "    r\"Chinese-Herbs-Dataset\\Star Anise\\Star Anise_2.jpg\"\n",
    "]\n",
    "\n",
    "for path in image_paths:\n",
    "    top_predictions = predict_top_n(path, model, class_names, top_n=3)\n",
    "    print(f\"Image: {path}\")\n",
    "    for rank, (class_name, confidence) in enumerate(top_predictions, start=1):\n",
    "        print(f\"  Top {rank}: {class_name} ({confidence:.2f})\")\n"
   ]
  }
 ],
 "metadata": {
  "kernelspec": {
   "display_name": "env",
   "language": "python",
   "name": "python3"
  },
  "language_info": {
   "codemirror_mode": {
    "name": "ipython",
    "version": 3
   },
   "file_extension": ".py",
   "mimetype": "text/x-python",
   "name": "python",
   "nbconvert_exporter": "python",
   "pygments_lexer": "ipython3",
   "version": "3.12.3"
  }
 },
 "nbformat": 4,
 "nbformat_minor": 2
}
